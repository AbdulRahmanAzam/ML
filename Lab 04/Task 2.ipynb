{
 "cells": [
  {
   "cell_type": "code",
   "execution_count": 4,
   "id": "9093026a",
   "metadata": {},
   "outputs": [
    {
     "data": {
      "text/html": [
       "<div>\n",
       "<style scoped>\n",
       "    .dataframe tbody tr th:only-of-type {\n",
       "        vertical-align: middle;\n",
       "    }\n",
       "\n",
       "    .dataframe tbody tr th {\n",
       "        vertical-align: top;\n",
       "    }\n",
       "\n",
       "    .dataframe thead th {\n",
       "        text-align: right;\n",
       "    }\n",
       "</style>\n",
       "<table border=\"1\" class=\"dataframe\">\n",
       "  <thead>\n",
       "    <tr style=\"text-align: right;\">\n",
       "      <th></th>\n",
       "      <th>ID</th>\n",
       "      <th>AGE</th>\n",
       "      <th>JOB_STATUS</th>\n",
       "      <th>OWNS_HOUSE</th>\n",
       "      <th>CREDIT_RATING</th>\n",
       "      <th>CLASS (Yes or No)</th>\n",
       "    </tr>\n",
       "  </thead>\n",
       "  <tbody>\n",
       "    <tr>\n",
       "      <th>0</th>\n",
       "      <td>1</td>\n",
       "      <td>Young</td>\n",
       "      <td>False</td>\n",
       "      <td>False</td>\n",
       "      <td>Fair</td>\n",
       "      <td>No</td>\n",
       "    </tr>\n",
       "    <tr>\n",
       "      <th>1</th>\n",
       "      <td>2</td>\n",
       "      <td>Young</td>\n",
       "      <td>False</td>\n",
       "      <td>False</td>\n",
       "      <td>Good</td>\n",
       "      <td>No</td>\n",
       "    </tr>\n",
       "    <tr>\n",
       "      <th>2</th>\n",
       "      <td>3</td>\n",
       "      <td>Young</td>\n",
       "      <td>True</td>\n",
       "      <td>False</td>\n",
       "      <td>Good</td>\n",
       "      <td>Yes</td>\n",
       "    </tr>\n",
       "    <tr>\n",
       "      <th>3</th>\n",
       "      <td>4</td>\n",
       "      <td>Young</td>\n",
       "      <td>True</td>\n",
       "      <td>True</td>\n",
       "      <td>Fair</td>\n",
       "      <td>Yes</td>\n",
       "    </tr>\n",
       "    <tr>\n",
       "      <th>4</th>\n",
       "      <td>5</td>\n",
       "      <td>Young</td>\n",
       "      <td>False</td>\n",
       "      <td>False</td>\n",
       "      <td>Fair</td>\n",
       "      <td>No</td>\n",
       "    </tr>\n",
       "  </tbody>\n",
       "</table>\n",
       "</div>"
      ],
      "text/plain": [
       "   ID    AGE  JOB_STATUS  OWNS_HOUSE CREDIT_RATING CLASS (Yes or No)\n",
       "0   1  Young       False       False          Fair                No\n",
       "1   2  Young       False       False          Good                No\n",
       "2   3  Young        True       False          Good               Yes\n",
       "3   4  Young        True        True          Fair               Yes\n",
       "4   5  Young       False       False          Fair                No"
      ]
     },
     "execution_count": 4,
     "metadata": {},
     "output_type": "execute_result"
    }
   ],
   "source": [
    "import numpy as np\n",
    "import pandas as pd\n",
    "import matplotlib.pyplot as plt\n",
    "\n",
    "from sklearn.metrics import accuracy_score\n",
    "from sklearn.preprocessing import StandardScaler \n",
    "from sklearn.model_selection import train_test_split\n",
    "\n",
    "\n",
    "df = pd.read_excel('loan.xlsx')\n",
    "df.head()\n"
   ]
  },
  {
   "cell_type": "code",
   "execution_count": 13,
   "id": "b51ee9bb",
   "metadata": {},
   "outputs": [
    {
     "name": "stdout",
     "output_type": "stream",
     "text": [
      "Information Gain for each feature:\n",
      "\n",
      "ID: 0.9710\n",
      "AGE: 0.0830\n",
      "JOB_STATUS: 0.3237\n",
      "OWNS_HOUSE: 0.4200\n",
      "CREDIT_RATING: 0.3630\n",
      "\n",
      "\n",
      "Root node: ID\n"
     ]
    }
   ],
   "source": [
    "# Id3 algorithm from scratch\n",
    "\n",
    "def entropy(y):\n",
    "    classes, counts = np.unique(y,return_counts=True)\n",
    "    probs = counts / counts.sum()\n",
    "    return -np.sum(probs * np.log2(probs))\n",
    "\n",
    "def information_gain(df, feature, target='CLASS (Yes or No)'):\n",
    "    total_entropy = entropy(df[target])\n",
    "    values, counts = np.unique(df[feature], return_counts=True)\n",
    "    weighted_entropy = np.sum([(counts[i]/np.sum(counts)) * entropy(df[df[feature]==values[i]] [target]) for i in range(len(values))])\n",
    "    return total_entropy - weighted_entropy\n",
    "\n",
    "# information gain for each attribute\n",
    "features = df.columns[0:-1] # excluding target column\n",
    "ig_values = {feature: information_gain(df, feature) for feature in features}\n",
    "\n",
    "print(\"Information Gain for each feature:\\n\")\n",
    "for f, ig in ig_values.items():\n",
    "    print(f\"{f}: {ig:.4f}\")\n",
    "\n",
    "root = max(ig_values, key=ig_values.get)\n",
    "print(\"\\n\\nRoot node:\", root)\n",
    "\n"
   ]
  },
  {
   "cell_type": "code",
   "execution_count": null,
   "id": "ec4d297e",
   "metadata": {},
   "outputs": [],
   "source": []
  }
 ],
 "metadata": {
  "kernelspec": {
   "display_name": "Python 3",
   "language": "python",
   "name": "python3"
  },
  "language_info": {
   "codemirror_mode": {
    "name": "ipython",
    "version": 3
   },
   "file_extension": ".py",
   "mimetype": "text/x-python",
   "name": "python",
   "nbconvert_exporter": "python",
   "pygments_lexer": "ipython3",
   "version": "3.12.4"
  }
 },
 "nbformat": 4,
 "nbformat_minor": 5
}
