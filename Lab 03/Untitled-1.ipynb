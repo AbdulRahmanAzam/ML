{
 "cells": [
  {
   "cell_type": "code",
   "execution_count": null,
   "id": "6ac83dc2",
   "metadata": {},
   "outputs": [
    {
     "name": "stdout",
     "output_type": "stream",
     "text": [
      "k=1, Accuracy=0.8596\n",
      "k=2, Accuracy=0.8509\n",
      "k=3, Accuracy=0.8684\n",
      "k=4, Accuracy=0.8509\n",
      "k=5, Accuracy=0.8509\n",
      "k=6, Accuracy=0.8772\n",
      "k=7, Accuracy=0.8684\n",
      "k=8, Accuracy=0.8684\n",
      "k=9, Accuracy=0.8596\n",
      "k=10, Accuracy=0.8684\n",
      "Best k: 10 with Accuracy: 0.8684\n"
     ]
    }
   ],
   "source": [
    "import numpy as np\n",
    "import pandas as pd\n",
    "import matplotlib.pyplot as plt\n",
    "\n",
    "from sklearn.preprocessing import StandardScaler\n",
    "from sklearn.model_selection import train_test_split\n",
    "from sklearn.metrics import accuracy_score\n",
    "from sklearn.datasets import load_breast_cancer\n",
    "from sklearn.neighbors import KNeighborsClassifier\n",
    "\n",
    "\n",
    "data = load_breast_cancer()\n",
    "# X = pd.DataFrame(data.data, columns=data.feature_names)\n",
    "# y = pd.Series(data.target)\n",
    "\n",
    "X = data.data[:,:3]\n",
    "y = data.target\n",
    "\n",
    "X_train, X_test, y_train, y_test = train_test_split(X, y, test_size=0.2, random_state=0)\n",
    "\n",
    "scaler = StandardScaler()\n",
    "X_train = scaler.fit_transform(X_train)\n",
    "X_test = scaler.transform(X_test)\n",
    "\n",
    "accuracies = []\n",
    "for k in range(1, 11):\n",
    "    knn = KNeighborsClassifier(n_neighbors=k)\n",
    "    knn.fit(X_train, y_train)\n",
    "    y_pred = knn.predict(X_test)\n",
    "    \n",
    "    accuracy = accuracy_score(y_test, y_pred)\n",
    "    accuracies.append((k, accuracy))\n",
    "    print(f'k={k}, Accuracy={accuracy:.4f}')\n",
    "\n",
    "best_k = accuracies.index(max(accuracies)) + 1\n",
    "best_acc = max(accuracies)[1]\n",
    "print(f'Best k: {best_k} with Accuracy: {best_acc:.4f}')\n"
   ]
  },
  {
   "cell_type": "code",
   "execution_count": null,
   "id": "090f87d4",
   "metadata": {},
   "outputs": [],
   "source": []
  }
 ],
 "metadata": {
  "kernelspec": {
   "display_name": "Python 3",
   "language": "python",
   "name": "python3"
  },
  "language_info": {
   "codemirror_mode": {
    "name": "ipython",
    "version": 3
   },
   "file_extension": ".py",
   "mimetype": "text/x-python",
   "name": "python",
   "nbconvert_exporter": "python",
   "pygments_lexer": "ipython3",
   "version": "3.12.4"
  }
 },
 "nbformat": 4,
 "nbformat_minor": 5
}
