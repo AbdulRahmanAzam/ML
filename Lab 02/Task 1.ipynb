{
 "cells": [
  {
   "cell_type": "code",
   "execution_count": 4,
   "id": "dab50dd5",
   "metadata": {},
   "outputs": [
    {
     "name": "stdout",
     "output_type": "stream",
     "text": [
      "    fid                                        name  population     county  \\\n",
      "0  9001               NEW ENGLAND CHRISTIAN ACADEMY         136    BRISTOL   \n",
      "1  9002                     SETON ACADEMY FOR GIRLS          57    BRISTOL   \n",
      "2  9003                              ST ANNA SCHOOL         157  WORCESTER   \n",
      "3  9004  SOUTHEAST ALTERNATIVE SCHOOL-MIDDLE SCHOOL           5   PLYMOUTH   \n",
      "4  9005                             DEVEREUX SCHOOL         123  WORCESTER   \n",
      "\n",
      "    latitude  \n",
      "0  41.758597  \n",
      "1  41.718407  \n",
      "2  42.517271  \n",
      "3  41.818210  \n",
      "4  42.383875  \n",
      "                                         name  population     county  \\\n",
      "0               NEW ENGLAND CHRISTIAN ACADEMY         136    BRISTOL   \n",
      "1                     SETON ACADEMY FOR GIRLS          57    BRISTOL   \n",
      "2                              ST ANNA SCHOOL         157  WORCESTER   \n",
      "3  SOUTHEAST ALTERNATIVE SCHOOL-MIDDLE SCHOOL           5   PLYMOUTH   \n",
      "4                             DEVEREUX SCHOOL         123  WORCESTER   \n",
      "\n",
      "   longitude                              level  enrollment  \\\n",
      "0 -71.175801  Combined elementary and secondary         120   \n",
      "1 -71.147302                         Elementary          49   \n",
      "2 -71.751741                         Elementary         143   \n",
      "3 -71.083393                         Elementary           4   \n",
      "4 -71.968419  Combined elementary and secondary         107   \n",
      "\n",
      "                             level.1  \n",
      "0  Combined elementary and secondary  \n",
      "1                         Elementary  \n",
      "2                         Elementary  \n",
      "3                         Elementary  \n",
      "4  Combined elementary and secondary  \n",
      "      county        city  score\n",
      "0    BRISTOL     SWANSEA     16\n",
      "1    BRISTOL  FALL RIVER      8\n",
      "2  WORCESTER  LEOMINSTER     14\n",
      "3   PLYMOUTH  MIDDLEBORO      1\n",
      "4  WORCESTER     RUTLAND     16\n"
     ]
    }
   ],
   "source": [
    "import pandas as pd\n",
    "\n",
    "da = pd.read_csv(\"Lab2 D1A.csv\")\n",
    "db = pd.read_csv(\"Lab2 D1B.csv\")\n",
    "dc = pd.read_csv(\"Lab2 D1C.csv\")\n",
    "\n",
    "print(da.head())\n",
    "print(db.head())\n",
    "print(dc.head())\n"
   ]
  },
  {
   "cell_type": "code",
   "execution_count": 6,
   "id": "8c530b84",
   "metadata": {},
   "outputs": [
    {
     "name": "stdout",
     "output_type": "stream",
     "text": [
      "         fid                                        name  population  \\\n",
      "0       9001               NEW ENGLAND CHRISTIAN ACADEMY         136   \n",
      "1       9002                     SETON ACADEMY FOR GIRLS          57   \n",
      "2       9003                              ST ANNA SCHOOL         157   \n",
      "3       9004  SOUTHEAST ALTERNATIVE SCHOOL-MIDDLE SCHOOL           5   \n",
      "4       9005                             DEVEREUX SCHOOL         123   \n",
      "...      ...                                         ...         ...   \n",
      "26978  20996                         MOST PRECIOUS BLOOD          33   \n",
      "26979  20997                               STARR ACADEMY          29   \n",
      "26980  20998                   ST JOHN'S LUTHERAN SCHOOL          24   \n",
      "26981  20999                     FAITH CHRISTIAN ACADEMY          13   \n",
      "26982  21000                           SHADY PINE SCHOOL          17   \n",
      "\n",
      "          county   latitude  longitude                              level  \\\n",
      "0        BRISTOL  41.758597 -71.175801  Combined elementary and secondary   \n",
      "1        BRISTOL  41.718407 -71.147302                         Elementary   \n",
      "2      WORCESTER  42.517271 -71.751741                         Elementary   \n",
      "3       PLYMOUTH  41.818210 -71.083393                         Elementary   \n",
      "4      WORCESTER  42.383875 -71.968419  Combined elementary and secondary   \n",
      "...          ...        ...        ...                                ...   \n",
      "26978    WAUPACA  44.386281 -88.739200                         Elementary   \n",
      "26979    WAUPACA  44.308621 -88.848294                          Secondary   \n",
      "26980   WAUSHARA  44.202182 -88.886093                         Elementary   \n",
      "26981   WAUSHARA  44.074503 -89.294984                         Elementary   \n",
      "26982   WAUSHARA  44.014975 -89.377692                         Elementary   \n",
      "\n",
      "       enrollment                            level.1  \n",
      "0             120  Combined elementary and secondary  \n",
      "1              49                         Elementary  \n",
      "2             143                         Elementary  \n",
      "3               4                         Elementary  \n",
      "4             107  Combined elementary and secondary  \n",
      "...           ...                                ...  \n",
      "26978          28                         Elementary  \n",
      "26979          21                          Secondary  \n",
      "26980          22                         Elementary  \n",
      "26981          11                         Elementary  \n",
      "26982          16                         Elementary  \n",
      "\n",
      "[26983 rows x 9 columns]\n",
      "Shape   (26983, 9)\n"
     ]
    }
   ],
   "source": [
    "comboAB = pd.concat([da, db], axis=1)\n",
    "comboAB = comboAB.loc[:, ~comboAB.columns.duplicated()]\n",
    "print(comboAB)\n",
    "print('Shape  ', comboAB.shape)"
   ]
  },
  {
   "cell_type": "code",
   "execution_count": 21,
   "id": "6e0f5086",
   "metadata": {},
   "outputs": [
    {
     "name": "stdout",
     "output_type": "stream",
     "text": [
      "           fid                           name  population    county  \\\n",
      "0         9001  NEW ENGLAND CHRISTIAN ACADEMY         136   BRISTOL   \n",
      "1         9001  NEW ENGLAND CHRISTIAN ACADEMY         136   BRISTOL   \n",
      "2         9001  NEW ENGLAND CHRISTIAN ACADEMY         136   BRISTOL   \n",
      "3         9001  NEW ENGLAND CHRISTIAN ACADEMY         136   BRISTOL   \n",
      "4         9001  NEW ENGLAND CHRISTIAN ACADEMY         136   BRISTOL   \n",
      "...        ...                            ...         ...       ...   \n",
      "4221328  21000              SHADY PINE SCHOOL          17  WAUSHARA   \n",
      "4221329  21000              SHADY PINE SCHOOL          17  WAUSHARA   \n",
      "4221330  21000              SHADY PINE SCHOOL          17  WAUSHARA   \n",
      "4221331  21000              SHADY PINE SCHOOL          17  WAUSHARA   \n",
      "4221332  21000              SHADY PINE SCHOOL          17  WAUSHARA   \n",
      "\n",
      "          latitude         city  score  \n",
      "0        41.758597      SWANSEA     16  \n",
      "1        41.758597   FALL RIVER      8  \n",
      "2        41.758597  NEW BEDFORD      8  \n",
      "3        41.758597    MANSFIELD     14  \n",
      "4        41.758597    ATTLEBORO      5  \n",
      "...            ...          ...    ...  \n",
      "4221328  44.014975     NESHKORO      3  \n",
      "4221329  44.014975    WEYAUWEGA      3  \n",
      "4221330  44.014975      FREMONT      2  \n",
      "4221331  44.014975      WAUTOMA      2  \n",
      "4221332  44.014975      WAUTOMA      1  \n",
      "\n",
      "[4221333 rows x 7 columns]\n",
      "Shape   (4221333, 7)\n"
     ]
    }
   ],
   "source": [
    "comboAC = pd.merge(da, dc, on='county')\n",
    "\n",
    "\n",
    "print(comboAC)\n",
    "print('Shape  ', comboAC.shape)"
   ]
  },
  {
   "cell_type": "code",
   "execution_count": null,
   "id": "5a6ab1ac",
   "metadata": {},
   "outputs": [],
   "source": []
  }
 ],
 "metadata": {
  "kernelspec": {
   "display_name": "Python 3",
   "language": "python",
   "name": "python3"
  },
  "language_info": {
   "codemirror_mode": {
    "name": "ipython",
    "version": 3
   },
   "file_extension": ".py",
   "mimetype": "text/x-python",
   "name": "python",
   "nbconvert_exporter": "python",
   "pygments_lexer": "ipython3",
   "version": "3.12.4"
  }
 },
 "nbformat": 4,
 "nbformat_minor": 5
}
